{
  "nbformat": 4,
  "nbformat_minor": 0,
  "metadata": {
    "colab": {
      "name": "Week_8_Q&A_1ICTAK-hypothesis , t test .ipynb",
      "provenance": [],
      "authorship_tag": "ABX9TyM+vbcXs6bQl8gi9jGseTFz",
      "include_colab_link": true
    },
    "kernelspec": {
      "name": "python3",
      "display_name": "Python 3"
    },
    "language_info": {
      "name": "python"
    }
  },
  "cells": [
    {
      "cell_type": "markdown",
      "metadata": {
        "id": "view-in-github",
        "colab_type": "text"
      },
      "source": [
        "<a href=\"https://colab.research.google.com/github/Akshay-Rajesh/DSA_Activity/blob/main/Week_8_Q%26A_1ICTAK_hypothesis_%2C_t_test_.ipynb\" target=\"_parent\"><img src=\"https://colab.research.google.com/assets/colab-badge.svg\" alt=\"Open In Colab\"/></a>"
      ]
    },
    {
      "cell_type": "code",
      "execution_count": 34,
      "metadata": {
        "id": "Z9ncVilfeC0F"
      },
      "outputs": [],
      "source": [
        "import pandas as pd\n",
        "import scipy.stats as stats\n",
        "import numpy as np"
      ]
    },
    {
      "cell_type": "markdown",
      "source": [
        "# 1. Carry out descriptive analytics on the dataset.\n",
        "\n"
      ],
      "metadata": {
        "id": "6n6bBTBF0nKp"
      }
    },
    {
      "cell_type": "code",
      "source": [
        "data = pd.read_csv(\"Week_8_Q&A_dataset - Sheet1.csv\")"
      ],
      "metadata": {
        "id": "OhNp7dyqkpvD"
      },
      "execution_count": 2,
      "outputs": []
    },
    {
      "cell_type": "code",
      "source": [
        "data.head()"
      ],
      "metadata": {
        "colab": {
          "base_uri": "https://localhost:8080/",
          "height": 206
        },
        "id": "iOzlNzWolEH6",
        "outputId": "7666f512-5ff5-44d3-a4ff-87884d535959"
      },
      "execution_count": 3,
      "outputs": [
        {
          "output_type": "execute_result",
          "data": {
            "text/html": [
              "<div>\n",
              "<style scoped>\n",
              "    .dataframe tbody tr th:only-of-type {\n",
              "        vertical-align: middle;\n",
              "    }\n",
              "\n",
              "    .dataframe tbody tr th {\n",
              "        vertical-align: top;\n",
              "    }\n",
              "\n",
              "    .dataframe thead th {\n",
              "        text-align: right;\n",
              "    }\n",
              "</style>\n",
              "<table border=\"1\" class=\"dataframe\">\n",
              "  <thead>\n",
              "    <tr style=\"text-align: right;\">\n",
              "      <th></th>\n",
              "      <th>Gender</th>\n",
              "      <th>Test preparation</th>\n",
              "      <th>Total Marks</th>\n",
              "    </tr>\n",
              "  </thead>\n",
              "  <tbody>\n",
              "    <tr>\n",
              "      <th>0</th>\n",
              "      <td>male</td>\n",
              "      <td>none</td>\n",
              "      <td>14</td>\n",
              "    </tr>\n",
              "    <tr>\n",
              "      <th>1</th>\n",
              "      <td>female</td>\n",
              "      <td>none</td>\n",
              "      <td>28</td>\n",
              "    </tr>\n",
              "    <tr>\n",
              "      <th>2</th>\n",
              "      <td>female</td>\n",
              "      <td>none</td>\n",
              "      <td>18</td>\n",
              "    </tr>\n",
              "    <tr>\n",
              "      <th>3</th>\n",
              "      <td>female</td>\n",
              "      <td>none</td>\n",
              "      <td>48</td>\n",
              "    </tr>\n",
              "    <tr>\n",
              "      <th>4</th>\n",
              "      <td>female</td>\n",
              "      <td>none</td>\n",
              "      <td>21</td>\n",
              "    </tr>\n",
              "  </tbody>\n",
              "</table>\n",
              "</div>"
            ],
            "text/plain": [
              "   Gender Test preparation  Total Marks\n",
              "0    male             none           14\n",
              "1  female             none           28\n",
              "2  female             none           18\n",
              "3  female             none           48\n",
              "4  female             none           21"
            ]
          },
          "metadata": {},
          "execution_count": 3
        }
      ]
    },
    {
      "cell_type": "code",
      "source": [
        "data.describe()"
      ],
      "metadata": {
        "colab": {
          "base_uri": "https://localhost:8080/",
          "height": 300
        },
        "id": "bl2S4DGJ05cV",
        "outputId": "65394c06-429c-4502-af61-779f2560db5d"
      },
      "execution_count": null,
      "outputs": [
        {
          "output_type": "execute_result",
          "data": {
            "text/html": [
              "<div>\n",
              "<style scoped>\n",
              "    .dataframe tbody tr th:only-of-type {\n",
              "        vertical-align: middle;\n",
              "    }\n",
              "\n",
              "    .dataframe tbody tr th {\n",
              "        vertical-align: top;\n",
              "    }\n",
              "\n",
              "    .dataframe thead th {\n",
              "        text-align: right;\n",
              "    }\n",
              "</style>\n",
              "<table border=\"1\" class=\"dataframe\">\n",
              "  <thead>\n",
              "    <tr style=\"text-align: right;\">\n",
              "      <th></th>\n",
              "      <th>Total Marks</th>\n",
              "    </tr>\n",
              "  </thead>\n",
              "  <tbody>\n",
              "    <tr>\n",
              "      <th>count</th>\n",
              "      <td>28.000000</td>\n",
              "    </tr>\n",
              "    <tr>\n",
              "      <th>mean</th>\n",
              "      <td>32.321429</td>\n",
              "    </tr>\n",
              "    <tr>\n",
              "      <th>std</th>\n",
              "      <td>12.454520</td>\n",
              "    </tr>\n",
              "    <tr>\n",
              "      <th>min</th>\n",
              "      <td>12.000000</td>\n",
              "    </tr>\n",
              "    <tr>\n",
              "      <th>25%</th>\n",
              "      <td>22.500000</td>\n",
              "    </tr>\n",
              "    <tr>\n",
              "      <th>50%</th>\n",
              "      <td>33.000000</td>\n",
              "    </tr>\n",
              "    <tr>\n",
              "      <th>75%</th>\n",
              "      <td>43.250000</td>\n",
              "    </tr>\n",
              "    <tr>\n",
              "      <th>max</th>\n",
              "      <td>50.000000</td>\n",
              "    </tr>\n",
              "  </tbody>\n",
              "</table>\n",
              "</div>"
            ],
            "text/plain": [
              "       Total Marks\n",
              "count    28.000000\n",
              "mean     32.321429\n",
              "std      12.454520\n",
              "min      12.000000\n",
              "25%      22.500000\n",
              "50%      33.000000\n",
              "75%      43.250000\n",
              "max      50.000000"
            ]
          },
          "metadata": {},
          "execution_count": 5
        }
      ]
    },
    {
      "cell_type": "code",
      "source": [
        "data.info()"
      ],
      "metadata": {
        "colab": {
          "base_uri": "https://localhost:8080/"
        },
        "id": "-UUC-G3k0-Ov",
        "outputId": "2d13e493-36fa-4fa2-a774-4e75a1445993"
      },
      "execution_count": null,
      "outputs": [
        {
          "output_type": "stream",
          "name": "stdout",
          "text": [
            "<class 'pandas.core.frame.DataFrame'>\n",
            "RangeIndex: 28 entries, 0 to 27\n",
            "Data columns (total 3 columns):\n",
            " #   Column            Non-Null Count  Dtype \n",
            "---  ------            --------------  ----- \n",
            " 0   Gender            28 non-null     object\n",
            " 1   Test preparation  28 non-null     object\n",
            " 2   Total Marks       28 non-null     int64 \n",
            "dtypes: int64(1), object(2)\n",
            "memory usage: 800.0+ bytes\n"
          ]
        }
      ]
    },
    {
      "cell_type": "markdown",
      "source": [
        "We can see or data shows marks obtained by Males and Females in a test . There is also inforation on wheather the student did a test prepartion or not .Our data is clean with no null values ."
      ],
      "metadata": {
        "id": "w5nR7JOU1CmC"
      }
    },
    {
      "cell_type": "markdown",
      "source": [
        "# 2. Check whether female and male students scored the same marks."
      ],
      "metadata": {
        "id": "M5VTeS_x0mai"
      }
    },
    {
      "cell_type": "markdown",
      "source": [
        "null hypothesis Ho = Female and male scored did not score same marks.\n",
        "Alternate hypothesis Ha = Female and Male scored same marks ."
      ],
      "metadata": {
        "id": "EK1XWe8R1bqA"
      }
    },
    {
      "cell_type": "code",
      "source": [
        "male_data = data[data[\"Gender\"] ==\"male\"]\n",
        "female_data = data[data[\"Gender\"] ==\"female\"]"
      ],
      "metadata": {
        "id": "fNGZZTfglJJC"
      },
      "execution_count": 8,
      "outputs": []
    },
    {
      "cell_type": "code",
      "source": [
        "ttest = stats.ttest_ind(female_data[\"Total Marks\"],male_data[\"Total Marks\"])"
      ],
      "metadata": {
        "id": "1JnLzhOOlavg"
      },
      "execution_count": 24,
      "outputs": []
    },
    {
      "cell_type": "code",
      "source": [
        "print(ttest)"
      ],
      "metadata": {
        "colab": {
          "base_uri": "https://localhost:8080/"
        },
        "id": "1GDaQrFgm5Sk",
        "outputId": "3f540b90-c2b2-4df3-9235-5da5fe71ca81"
      },
      "execution_count": 25,
      "outputs": [
        {
          "output_type": "stream",
          "name": "stdout",
          "text": [
            "Ttest_indResult(statistic=0.6940885268848668, pvalue=0.4937822317960763)\n"
          ]
        }
      ]
    },
    {
      "cell_type": "code",
      "source": [
        "tvalue ,pvalue"
      ],
      "metadata": {
        "colab": {
          "base_uri": "https://localhost:8080/"
        },
        "id": "N34KXxYKLuRp",
        "outputId": "9b30f67a-d370-4f2f-fb6e-3f05d9fd57ba"
      },
      "execution_count": 32,
      "outputs": [
        {
          "output_type": "execute_result",
          "data": {
            "text/plain": [
              "(0.6940885268848668, 0.4937822317960763)"
            ]
          },
          "metadata": {},
          "execution_count": 32
        }
      ]
    },
    {
      "cell_type": "code",
      "source": [
        "# we take 5% alpha level\n",
        "#we have to find our degress of freedom\n",
        "degrees_of_freedom = len(female_data)+len(male_data) -2\n",
        "significance_level = 0.05\n",
        "print(f'Degrees of freedom = {degrees_of_freedom}')"
      ],
      "metadata": {
        "colab": {
          "base_uri": "https://localhost:8080/"
        },
        "id": "osRqtXgt6-BW",
        "outputId": "c5aaa87d-4b1d-4644-8193-eb9d5585cd6c"
      },
      "execution_count": 26,
      "outputs": [
        {
          "output_type": "stream",
          "name": "stdout",
          "text": [
            "Degrees of freedom = 26\n"
          ]
        }
      ]
    },
    {
      "cell_type": "code",
      "source": [
        "#we find our critical value , here we have a two tail test with 5 % confifence interval so two tails 0.05/2\n",
        "tcritical = stats.t.ppf(0.05/2,26)"
      ],
      "metadata": {
        "id": "BpIPQY2H8kqI"
      },
      "execution_count": 30,
      "outputs": []
    },
    {
      "cell_type": "code",
      "source": [
        "tcritical"
      ],
      "metadata": {
        "colab": {
          "base_uri": "https://localhost:8080/"
        },
        "id": "bb4hbgzO1xS8",
        "outputId": "f620e02b-5715-44a5-b4f5-3e0219c64748"
      },
      "execution_count": 31,
      "outputs": [
        {
          "output_type": "execute_result",
          "data": {
            "text/plain": [
              "-2.0555294386428713"
            ]
          },
          "metadata": {},
          "execution_count": 31
        }
      ]
    },
    {
      "cell_type": "markdown",
      "source": [
        "if tvalue less than t critical we accept null hypothesis\n",
        "if tvalue greater than t critical we reject null hypothesis"
      ],
      "metadata": {
        "id": "g1fFd6GfLOPV"
      }
    },
    {
      "cell_type": "code",
      "source": [
        "# here tvalue =0.694 , tcritical = -2.05(we can find abs so 2.05)\n",
        "if np.abs(tvalue)>np.abs(tcritical) and pvalue <0.05:\n",
        "    print('Reject null hypothesis : female and male students scored the same marks')\n",
        "else:\n",
        "    print('Reject alternate hypothesis : female and male students does not scored the same marks')"
      ],
      "metadata": {
        "colab": {
          "base_uri": "https://localhost:8080/"
        },
        "id": "_3-tJrIoKysx",
        "outputId": "feeed883-2704-40b7-c9ab-99d7e01e4140"
      },
      "execution_count": 35,
      "outputs": [
        {
          "output_type": "stream",
          "name": "stdout",
          "text": [
            "Reject alternate hypothesis : female and male students does not scored the same marks\n"
          ]
        }
      ]
    },
    {
      "cell_type": "markdown",
      "source": [
        "# 3. Whether test preparation helps the students?"
      ],
      "metadata": {
        "id": "pOODlvDpMAdv"
      }
    },
    {
      "cell_type": "markdown",
      "source": [
        "(Null Hypothesis) H0: test preparation helps the students\n",
        "(Alternate Hypothesis) H1: test preparation doesn't helps the students"
      ],
      "metadata": {
        "id": "ZPZC4gSPMQyG"
      }
    },
    {
      "cell_type": "code",
      "source": [
        "data.head()"
      ],
      "metadata": {
        "colab": {
          "base_uri": "https://localhost:8080/",
          "height": 206
        },
        "id": "AYCKcNgsMEjC",
        "outputId": "2acacf2c-ed25-4b98-9f2b-3903d2808ff1"
      },
      "execution_count": 36,
      "outputs": [
        {
          "output_type": "execute_result",
          "data": {
            "text/html": [
              "<div>\n",
              "<style scoped>\n",
              "    .dataframe tbody tr th:only-of-type {\n",
              "        vertical-align: middle;\n",
              "    }\n",
              "\n",
              "    .dataframe tbody tr th {\n",
              "        vertical-align: top;\n",
              "    }\n",
              "\n",
              "    .dataframe thead th {\n",
              "        text-align: right;\n",
              "    }\n",
              "</style>\n",
              "<table border=\"1\" class=\"dataframe\">\n",
              "  <thead>\n",
              "    <tr style=\"text-align: right;\">\n",
              "      <th></th>\n",
              "      <th>Gender</th>\n",
              "      <th>Test preparation</th>\n",
              "      <th>Total Marks</th>\n",
              "    </tr>\n",
              "  </thead>\n",
              "  <tbody>\n",
              "    <tr>\n",
              "      <th>0</th>\n",
              "      <td>male</td>\n",
              "      <td>none</td>\n",
              "      <td>14</td>\n",
              "    </tr>\n",
              "    <tr>\n",
              "      <th>1</th>\n",
              "      <td>female</td>\n",
              "      <td>none</td>\n",
              "      <td>28</td>\n",
              "    </tr>\n",
              "    <tr>\n",
              "      <th>2</th>\n",
              "      <td>female</td>\n",
              "      <td>none</td>\n",
              "      <td>18</td>\n",
              "    </tr>\n",
              "    <tr>\n",
              "      <th>3</th>\n",
              "      <td>female</td>\n",
              "      <td>none</td>\n",
              "      <td>48</td>\n",
              "    </tr>\n",
              "    <tr>\n",
              "      <th>4</th>\n",
              "      <td>female</td>\n",
              "      <td>none</td>\n",
              "      <td>21</td>\n",
              "    </tr>\n",
              "  </tbody>\n",
              "</table>\n",
              "</div>"
            ],
            "text/plain": [
              "   Gender Test preparation  Total Marks\n",
              "0    male             none           14\n",
              "1  female             none           28\n",
              "2  female             none           18\n",
              "3  female             none           48\n",
              "4  female             none           21"
            ]
          },
          "metadata": {},
          "execution_count": 36
        }
      ]
    },
    {
      "cell_type": "code",
      "source": [
        "test_prep_completed = data[data[\"Test preparation\"] == \"completed\"]\n",
        "test_prep_notcompleted = data[data[\"Test preparation\"] == \"none\"]"
      ],
      "metadata": {
        "id": "XHesr2-CMv2F"
      },
      "execution_count": 38,
      "outputs": []
    },
    {
      "cell_type": "code",
      "source": [
        "test_prep_completed"
      ],
      "metadata": {
        "colab": {
          "base_uri": "https://localhost:8080/",
          "height": 269
        },
        "id": "gJXS7IJNNJDq",
        "outputId": "dd937050-d931-4eb4-eee1-407515563bae"
      },
      "execution_count": 39,
      "outputs": [
        {
          "output_type": "execute_result",
          "data": {
            "text/html": [
              "<div>\n",
              "<style scoped>\n",
              "    .dataframe tbody tr th:only-of-type {\n",
              "        vertical-align: middle;\n",
              "    }\n",
              "\n",
              "    .dataframe tbody tr th {\n",
              "        vertical-align: top;\n",
              "    }\n",
              "\n",
              "    .dataframe thead th {\n",
              "        text-align: right;\n",
              "    }\n",
              "</style>\n",
              "<table border=\"1\" class=\"dataframe\">\n",
              "  <thead>\n",
              "    <tr style=\"text-align: right;\">\n",
              "      <th></th>\n",
              "      <th>Gender</th>\n",
              "      <th>Test preparation</th>\n",
              "      <th>Total Marks</th>\n",
              "    </tr>\n",
              "  </thead>\n",
              "  <tbody>\n",
              "    <tr>\n",
              "      <th>5</th>\n",
              "      <td>female</td>\n",
              "      <td>completed</td>\n",
              "      <td>40</td>\n",
              "    </tr>\n",
              "    <tr>\n",
              "      <th>10</th>\n",
              "      <td>male</td>\n",
              "      <td>completed</td>\n",
              "      <td>44</td>\n",
              "    </tr>\n",
              "    <tr>\n",
              "      <th>12</th>\n",
              "      <td>male</td>\n",
              "      <td>completed</td>\n",
              "      <td>43</td>\n",
              "    </tr>\n",
              "    <tr>\n",
              "      <th>16</th>\n",
              "      <td>female</td>\n",
              "      <td>completed</td>\n",
              "      <td>48</td>\n",
              "    </tr>\n",
              "    <tr>\n",
              "      <th>21</th>\n",
              "      <td>male</td>\n",
              "      <td>completed</td>\n",
              "      <td>44</td>\n",
              "    </tr>\n",
              "    <tr>\n",
              "      <th>26</th>\n",
              "      <td>female</td>\n",
              "      <td>completed</td>\n",
              "      <td>50</td>\n",
              "    </tr>\n",
              "    <tr>\n",
              "      <th>27</th>\n",
              "      <td>female</td>\n",
              "      <td>completed</td>\n",
              "      <td>43</td>\n",
              "    </tr>\n",
              "  </tbody>\n",
              "</table>\n",
              "</div>"
            ],
            "text/plain": [
              "    Gender Test preparation  Total Marks\n",
              "5   female        completed           40\n",
              "10    male        completed           44\n",
              "12    male        completed           43\n",
              "16  female        completed           48\n",
              "21    male        completed           44\n",
              "26  female        completed           50\n",
              "27  female        completed           43"
            ]
          },
          "metadata": {},
          "execution_count": 39
        }
      ]
    },
    {
      "cell_type": "code",
      "source": [
        "tvalue,pvalue = stats.ttest_ind(test_prep_completed[\"Total Marks\"], test_prep_notcompleted[\"Total Marks\"])"
      ],
      "metadata": {
        "id": "im9hfvSgNX7d"
      },
      "execution_count": 55,
      "outputs": []
    },
    {
      "cell_type": "code",
      "source": [
        "tvalue,pvalue"
      ],
      "metadata": {
        "colab": {
          "base_uri": "https://localhost:8080/"
        },
        "id": "opvFP3RWQ0ex",
        "outputId": "4ea1a97f-597f-40e1-d439-03205c2cc181"
      },
      "execution_count": 56,
      "outputs": [
        {
          "output_type": "execute_result",
          "data": {
            "text/plain": [
              "(3.6143637527769217, 0.0012671292457320106)"
            ]
          },
          "metadata": {},
          "execution_count": 56
        }
      ]
    },
    {
      "cell_type": "code",
      "source": [
        "# we take 5% alpha level\n",
        "#we have to find our degress of freedom\n",
        "degrees_of_freedom = len(test_prep_completed)+len(test_prep_notcompleted) -2\n",
        "significance_level = 0.05\n",
        "print(f'Degrees of freedom = {degrees_of_freedom}')"
      ],
      "metadata": {
        "colab": {
          "base_uri": "https://localhost:8080/"
        },
        "id": "pVtXbfSqRP9w",
        "outputId": "208bd044-539e-4913-d122-bcaaf72a5abc"
      },
      "execution_count": 57,
      "outputs": [
        {
          "output_type": "stream",
          "name": "stdout",
          "text": [
            "Degrees of freedom = 26\n"
          ]
        }
      ]
    },
    {
      "cell_type": "code",
      "source": [
        "# Right tailed test since we are checking marks is increasing , we do 1-0.05 .\n",
        "tcrit = stats.t.ppf((1-0.05), 26)\n",
        "tcrit"
      ],
      "metadata": {
        "colab": {
          "base_uri": "https://localhost:8080/"
        },
        "id": "1yBtaC9hR0GP",
        "outputId": "ec9233cd-725c-48d4-ce24-9b91378d6302"
      },
      "execution_count": 60,
      "outputs": [
        {
          "output_type": "execute_result",
          "data": {
            "text/plain": [
              "1.7056179197592727"
            ]
          },
          "metadata": {},
          "execution_count": 60
        }
      ]
    },
    {
      "cell_type": "code",
      "source": [
        "if np.abs(tvalue) > np.abs(tcrit):\n",
        "  print(\"We reject null hypothesis\")\n",
        "else:\n",
        "  print(\"We accept null hypothesis\")"
      ],
      "metadata": {
        "colab": {
          "base_uri": "https://localhost:8080/"
        },
        "id": "Ktu3rKgaSGq-",
        "outputId": "467524a9-b1ec-42b0-897e-4f6af8b67bc5"
      },
      "execution_count": 59,
      "outputs": [
        {
          "output_type": "stream",
          "name": "stdout",
          "text": [
            "We reject null hypothesis\n"
          ]
        }
      ]
    }
  ]
}