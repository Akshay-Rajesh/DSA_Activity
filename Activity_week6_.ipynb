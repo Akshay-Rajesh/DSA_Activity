{
  "nbformat": 4,
  "nbformat_minor": 0,
  "metadata": {
    "colab": {
      "name": "Activity  week6-.ipynb",
      "provenance": [],
      "collapsed_sections": [],
      "authorship_tag": "ABX9TyOsmLSJa10hha5j9eRybf31",
      "include_colab_link": true
    },
    "kernelspec": {
      "name": "python3",
      "display_name": "Python 3"
    },
    "language_info": {
      "name": "python"
    }
  },
  "cells": [
    {
      "cell_type": "markdown",
      "metadata": {
        "id": "view-in-github",
        "colab_type": "text"
      },
      "source": [
        "<a href=\"https://colab.research.google.com/github/Akshay-Rajesh/DSA_Activity/blob/main/Activity_week6_.ipynb\" target=\"_parent\"><img src=\"https://colab.research.google.com/assets/colab-badge.svg\" alt=\"Open In Colab\"/></a>"
      ]
    },
    {
      "cell_type": "code",
      "metadata": {
        "id": "O0Mugtk3W5B6"
      },
      "source": [
        "import pandas as pd\n",
        "import numpy as np\n",
        "import matplotlib.pyplot as plt\n",
        "import seaborn as sns"
      ],
      "execution_count": null,
      "outputs": []
    },
    {
      "cell_type": "code",
      "metadata": {
        "id": "Ul8uWiebXFsk"
      },
      "source": [
        "data = pd.read_csv(\"Data.csv\")"
      ],
      "execution_count": null,
      "outputs": []
    },
    {
      "cell_type": "code",
      "metadata": {
        "colab": {
          "base_uri": "https://localhost:8080/",
          "height": 240
        },
        "id": "J281r6QEZgbJ",
        "outputId": "843e4c5d-722f-4c33-e46a-0dc913b7aaba"
      },
      "source": [
        "data.head()"
      ],
      "execution_count": null,
      "outputs": [
        {
          "output_type": "execute_result",
          "data": {
            "text/html": [
              "<div>\n",
              "<style scoped>\n",
              "    .dataframe tbody tr th:only-of-type {\n",
              "        vertical-align: middle;\n",
              "    }\n",
              "\n",
              "    .dataframe tbody tr th {\n",
              "        vertical-align: top;\n",
              "    }\n",
              "\n",
              "    .dataframe thead th {\n",
              "        text-align: right;\n",
              "    }\n",
              "</style>\n",
              "<table border=\"1\" class=\"dataframe\">\n",
              "  <thead>\n",
              "    <tr style=\"text-align: right;\">\n",
              "      <th></th>\n",
              "      <th>country</th>\n",
              "      <th>Region</th>\n",
              "      <th>Surface area (km2)</th>\n",
              "      <th>Population in thousands (2017)</th>\n",
              "      <th>GDP per capita (current US$)</th>\n",
              "      <th>Agricultural production index</th>\n",
              "      <th>International trade: Imports (million US$)</th>\n",
              "    </tr>\n",
              "  </thead>\n",
              "  <tbody>\n",
              "    <tr>\n",
              "      <th>0</th>\n",
              "      <td>Afghanistan</td>\n",
              "      <td>SouthernAsia</td>\n",
              "      <td>652864</td>\n",
              "      <td>35530</td>\n",
              "      <td>623.2</td>\n",
              "      <td>125</td>\n",
              "      <td>3568</td>\n",
              "    </tr>\n",
              "    <tr>\n",
              "      <th>1</th>\n",
              "      <td>Albania</td>\n",
              "      <td>SouthernEurope</td>\n",
              "      <td>28748</td>\n",
              "      <td>2930</td>\n",
              "      <td>3984.2</td>\n",
              "      <td>134</td>\n",
              "      <td>4669</td>\n",
              "    </tr>\n",
              "    <tr>\n",
              "      <th>2</th>\n",
              "      <td>Algeria</td>\n",
              "      <td>NorthernAfrica</td>\n",
              "      <td>2381741</td>\n",
              "      <td>41318</td>\n",
              "      <td>4154.1</td>\n",
              "      <td>160</td>\n",
              "      <td>47091</td>\n",
              "    </tr>\n",
              "    <tr>\n",
              "      <th>3</th>\n",
              "      <td>Angola</td>\n",
              "      <td>MiddleAfrica</td>\n",
              "      <td>1246700</td>\n",
              "      <td>29784</td>\n",
              "      <td>4714.1</td>\n",
              "      <td>175</td>\n",
              "      <td>8790</td>\n",
              "    </tr>\n",
              "    <tr>\n",
              "      <th>4</th>\n",
              "      <td>Antigua and Barbuda</td>\n",
              "      <td>Caribbean</td>\n",
              "      <td>442</td>\n",
              "      <td>102</td>\n",
              "      <td>14764.5</td>\n",
              "      <td>88</td>\n",
              "      <td>491</td>\n",
              "    </tr>\n",
              "  </tbody>\n",
              "</table>\n",
              "</div>"
            ],
            "text/plain": [
              "               country  ... International trade: Imports (million US$)\n",
              "0          Afghanistan  ...                                       3568\n",
              "1              Albania  ...                                       4669\n",
              "2              Algeria  ...                                      47091\n",
              "3               Angola  ...                                       8790\n",
              "4  Antigua and Barbuda  ...                                        491\n",
              "\n",
              "[5 rows x 7 columns]"
            ]
          },
          "metadata": {},
          "execution_count": 251
        }
      ]
    },
    {
      "cell_type": "code",
      "metadata": {
        "colab": {
          "base_uri": "https://localhost:8080/"
        },
        "id": "johYK2D-Z8__",
        "outputId": "e4eaca36-e514-4a51-8c84-bbd8c2aef259"
      },
      "source": [
        "data.info()"
      ],
      "execution_count": null,
      "outputs": [
        {
          "output_type": "stream",
          "name": "stdout",
          "text": [
            "<class 'pandas.core.frame.DataFrame'>\n",
            "RangeIndex: 196 entries, 0 to 195\n",
            "Data columns (total 7 columns):\n",
            " #   Column                                      Non-Null Count  Dtype  \n",
            "---  ------                                      --------------  -----  \n",
            " 0   country                                     196 non-null    object \n",
            " 1   Region                                      196 non-null    object \n",
            " 2   Surface area (km2)                          196 non-null    int64  \n",
            " 3   Population in thousands (2017)              196 non-null    int64  \n",
            " 4   GDP per capita (current US$)                196 non-null    float64\n",
            " 5   Agricultural production index               196 non-null    int64  \n",
            " 6   International trade: Imports (million US$)  196 non-null    int64  \n",
            "dtypes: float64(1), int64(4), object(2)\n",
            "memory usage: 10.8+ KB\n"
          ]
        }
      ]
    },
    {
      "cell_type": "code",
      "metadata": {
        "colab": {
          "base_uri": "https://localhost:8080/"
        },
        "id": "eJmXlT3zaA_-",
        "outputId": "413347a2-5d6d-4fde-fdfc-efe84c72fe13"
      },
      "source": [
        "data[\"country\"].nunique()"
      ],
      "execution_count": null,
      "outputs": [
        {
          "output_type": "execute_result",
          "data": {
            "text/plain": [
              "196"
            ]
          },
          "metadata": {},
          "execution_count": 225
        }
      ]
    },
    {
      "cell_type": "markdown",
      "metadata": {
        "id": "-4BRJmXmmgPr"
      },
      "source": [
        "1)- We found out above the no of countries is 196"
      ]
    },
    {
      "cell_type": "markdown",
      "metadata": {
        "id": "g9l_UsQ2cF-u"
      },
      "source": [
        "2)- Examine the data by using visualizations."
      ]
    },
    {
      "cell_type": "code",
      "metadata": {
        "colab": {
          "base_uri": "https://localhost:8080/",
          "height": 683
        },
        "id": "E1q5nluHbQ2a",
        "outputId": "7597fc68-c64e-4550-fa2f-94c366b9f4d7"
      },
      "source": [
        "plt.figure(figsize=(10,10))\n",
        "plt.scatter(data[\"Region\"] , data[\"Surface area (km2)\"] , label=\"Arean chart\")\n",
        "plt.xticks()\n",
        "plt.xticks(rotation=45)\n",
        "plt.yticks()\n",
        "plt.legend()\n",
        "plt.xlabel(\"Region\")\n",
        "plt.ylabel(\"Surface area (km2)\")\n",
        "plt.title(\"Region vs Area\")\n",
        "plt.show()"
      ],
      "execution_count": null,
      "outputs": [
        {
          "output_type": "display_data",
          "data": {
            "image/png": "[encoded data removed]",
            "text/plain": [
              "<Figure size 720x720 with 1 Axes>"
            ]
          },
          "metadata": {
            "needs_background": "light"
          }
        }
      ]
    },
    {
      "cell_type": "code",
      "metadata": {
        "id": "zN1AqcHYj7c2"
      },
      "source": [
        ""
      ],
      "execution_count": null,
      "outputs": []
    },
    {
      "cell_type": "markdown",
      "metadata": {
        "id": "GvhZKLjpcK2O"
      },
      "source": [
        "3)- Find out how many countries with respect to the region are availablein the dataset"
      ]
    },
    {
      "cell_type": "code",
      "metadata": {
        "id": "MPYjj3JUcLez"
      },
      "source": [
        "data_Region = data.groupby(\"Region\")\n"
      ],
      "execution_count": null,
      "outputs": []
    },
    {
      "cell_type": "code",
      "metadata": {
        "colab": {
          "base_uri": "https://localhost:8080/"
        },
        "id": "pOvFNk1qc8h7",
        "outputId": "5bf6340e-f497-496f-cfee-2fe9d7583729"
      },
      "source": [
        "data_Region[\"Region\"].count()"
      ],
      "execution_count": null,
      "outputs": [
        {
          "output_type": "execute_result",
          "data": {
            "text/plain": [
              "Region\n",
              "Caribbean            16\n",
              "CentralAmerica        8\n",
              "CentralAsia           5\n",
              "EasternAfrica        17\n",
              "EasternAsia           7\n",
              "EasternEurope        10\n",
              "Melanesia             5\n",
              "Micronesia            4\n",
              "MiddleAfrica          9\n",
              "NorthernAfrica        5\n",
              "NorthernAmerica       4\n",
              "NorthernEurope       10\n",
              "Oceania               2\n",
              "Polynesia             5\n",
              "South-easternAsia    11\n",
              "SouthAmerica         12\n",
              "SouthernAfrica        5\n",
              "SouthernAsia          9\n",
              "SouthernEurope       12\n",
              "WesternAfrica        15\n",
              "WesternAsia          18\n",
              "WesternEurope         7\n",
              "Name: Region, dtype: int64"
            ]
          },
          "metadata": {},
          "execution_count": 231
        }
      ]
    },
    {
      "cell_type": "markdown",
      "metadata": {
        "id": "XaW0mi6lnGRQ"
      },
      "source": [
        "4)- On average which region has the highest -a)-GDP per capita (current US$) -\n",
        "\n",
        " b) International trade-imports (million)"
      ]
    },
    {
      "cell_type": "code",
      "metadata": {
        "id": "_y5yELEcf_Xv"
      },
      "source": [
        "#Here we are finding the mean of all the regions using describe\n",
        "Average_GDP =data.groupby(\"Region\")[\"GDP per capita (current US$)\"].describe().reset_index()"
      ],
      "execution_count": null,
      "outputs": []
    },
    {
      "cell_type": "code",
      "metadata": {
        "colab": {
          "base_uri": "https://localhost:8080/",
          "height": 80
        },
        "id": "l_i7FyR8_ewC",
        "outputId": "7230c441-8466-44b2-f1ea-1f5a18f754c3"
      },
      "source": [
        "#Here we are sorting and finding the max value\n",
        "mean_GDP =Average_GDP.sort_values(by=\"mean\" ,ascending =False)\n",
        "mean_GDP.head(1)"
      ],
      "execution_count": null,
      "outputs": [
        {
          "output_type": "execute_result",
          "data": {
            "text/html": [
              "<div>\n",
              "<style scoped>\n",
              "    .dataframe tbody tr th:only-of-type {\n",
              "        vertical-align: middle;\n",
              "    }\n",
              "\n",
              "    .dataframe tbody tr th {\n",
              "        vertical-align: top;\n",
              "    }\n",
              "\n",
              "    .dataframe thead th {\n",
              "        text-align: right;\n",
              "    }\n",
              "</style>\n",
              "<table border=\"1\" class=\"dataframe\">\n",
              "  <thead>\n",
              "    <tr style=\"text-align: right;\">\n",
              "      <th></th>\n",
              "      <th>Region</th>\n",
              "      <th>count</th>\n",
              "      <th>mean</th>\n",
              "      <th>std</th>\n",
              "      <th>min</th>\n",
              "      <th>25%</th>\n",
              "      <th>50%</th>\n",
              "      <th>75%</th>\n",
              "      <th>max</th>\n",
              "    </tr>\n",
              "  </thead>\n",
              "  <tbody>\n",
              "    <tr>\n",
              "      <th>10</th>\n",
              "      <td>NorthernAmerica</td>\n",
              "      <td>4.0</td>\n",
              "      <td>57659.0</td>\n",
              "      <td>25749.619445</td>\n",
              "      <td>36976.7</td>\n",
              "      <td>41648.375</td>\n",
              "      <td>49629.7</td>\n",
              "      <td>65640.325</td>\n",
              "      <td>94399.9</td>\n",
              "    </tr>\n",
              "  </tbody>\n",
              "</table>\n",
              "</div>"
            ],
            "text/plain": [
              "             Region  count     mean  ...      50%        75%      max\n",
              "10  NorthernAmerica    4.0  57659.0  ...  49629.7  65640.325  94399.9\n",
              "\n",
              "[1 rows x 9 columns]"
            ]
          },
          "metadata": {},
          "execution_count": 236
        }
      ]
    },
    {
      "cell_type": "markdown",
      "metadata": {
        "id": "fVikh94rBN3X"
      },
      "source": [
        "From above we get North America which has highest GDP"
      ]
    },
    {
      "cell_type": "markdown",
      "metadata": {
        "id": "PbgVxSHVBUuG"
      },
      "source": [
        "b) International trade-imports (million)"
      ]
    },
    {
      "cell_type": "code",
      "metadata": {
        "id": "6A5Wfrv0EfF7"
      },
      "source": [
        "#just for standard practise we will replace space with _ in our column names\n",
        "column_names = data.columns"
      ],
      "execution_count": null,
      "outputs": []
    },
    {
      "cell_type": "code",
      "metadata": {
        "id": "r_P_7XT1E1qe"
      },
      "source": [
        "for i in column_names:\n",
        "  new_name = i.replace(\" \" , \"_\")\n",
        "  data.rename(columns= {i:new_name} , inplace =True)"
      ],
      "execution_count": null,
      "outputs": []
    },
    {
      "cell_type": "code",
      "metadata": {
        "colab": {
          "base_uri": "https://localhost:8080/"
        },
        "id": "1MjSqXqLFdCJ",
        "outputId": "a3e3a52d-4970-44f9-99b8-9cd028a1ff72"
      },
      "source": [
        "data.info()"
      ],
      "execution_count": null,
      "outputs": [
        {
          "output_type": "stream",
          "name": "stdout",
          "text": [
            "<class 'pandas.core.frame.DataFrame'>\n",
            "RangeIndex: 196 entries, 0 to 195\n",
            "Data columns (total 7 columns):\n",
            " #   Column                                      Non-Null Count  Dtype  \n",
            "---  ------                                      --------------  -----  \n",
            " 0   country                                     196 non-null    object \n",
            " 1   Region                                      196 non-null    object \n",
            " 2   Surface_area_(km2)                          196 non-null    int64  \n",
            " 3   Population_in_thousands_(2017)              196 non-null    int64  \n",
            " 4   GDP_per_capita_(current_US$)                196 non-null    float64\n",
            " 5   Agricultural_production_index_              196 non-null    int64  \n",
            " 6   International_trade:_Imports_(million_US$)  196 non-null    int64  \n",
            "dtypes: float64(1), int64(4), object(2)\n",
            "memory usage: 10.8+ KB\n"
          ]
        }
      ]
    },
    {
      "cell_type": "code",
      "metadata": {
        "id": "Go-LBZC1FenE"
      },
      "source": [
        "#Here we are finding the mean of all the regions using describe\n",
        "trade = data.groupby(\"Region\")[\"International_trade:_Imports_(million_US$)\"].describe().reset_index()"
      ],
      "execution_count": null,
      "outputs": []
    },
    {
      "cell_type": "code",
      "metadata": {
        "colab": {
          "base_uri": "https://localhost:8080/",
          "height": 80
        },
        "id": "w6bzzE5BbSc0",
        "outputId": "4381a38b-09a7-4a8d-8cba-ae751de206dd"
      },
      "source": [
        "#Here we are sorting and finding the max value\n",
        "mean_trade = trade.sort_values(by=\"mean\" , ascending = False)\n",
        "mean_trade.head(1)"
      ],
      "execution_count": null,
      "outputs": [
        {
          "output_type": "execute_result",
          "data": {
            "text/html": [
              "<div>\n",
              "<style scoped>\n",
              "    .dataframe tbody tr th:only-of-type {\n",
              "        vertical-align: middle;\n",
              "    }\n",
              "\n",
              "    .dataframe tbody tr th {\n",
              "        vertical-align: top;\n",
              "    }\n",
              "\n",
              "    .dataframe thead th {\n",
              "        text-align: right;\n",
              "    }\n",
              "</style>\n",
              "<table border=\"1\" class=\"dataframe\">\n",
              "  <thead>\n",
              "    <tr style=\"text-align: right;\">\n",
              "      <th></th>\n",
              "      <th>Region</th>\n",
              "      <th>count</th>\n",
              "      <th>mean</th>\n",
              "      <th>std</th>\n",
              "      <th>min</th>\n",
              "      <th>25%</th>\n",
              "      <th>50%</th>\n",
              "      <th>75%</th>\n",
              "      <th>max</th>\n",
              "    </tr>\n",
              "  </thead>\n",
              "  <tbody>\n",
              "    <tr>\n",
              "      <th>10</th>\n",
              "      <td>NorthernAmerica</td>\n",
              "      <td>4.0</td>\n",
              "      <td>663552.25</td>\n",
              "      <td>1.074266e+06</td>\n",
              "      <td>623.0</td>\n",
              "      <td>884.0</td>\n",
              "      <td>201962.5</td>\n",
              "      <td>864630.75</td>\n",
              "      <td>2249661.0</td>\n",
              "    </tr>\n",
              "  </tbody>\n",
              "</table>\n",
              "</div>"
            ],
            "text/plain": [
              "             Region  count       mean  ...       50%        75%        max\n",
              "10  NorthernAmerica    4.0  663552.25  ...  201962.5  864630.75  2249661.0\n",
              "\n",
              "[1 rows x 9 columns]"
            ]
          },
          "metadata": {},
          "execution_count": 249
        }
      ]
    },
    {
      "cell_type": "markdown",
      "metadata": {
        "id": "n0Q2GaWUbkdi"
      },
      "source": [
        "We can see NorthernAmerica has the highest trade imports"
      ]
    },
    {
      "cell_type": "markdown",
      "metadata": {
        "id": "k3i1aOmzNJ6Q"
      },
      "source": [
        "5. Find out which region has more consistent with respect to GDP per\n",
        "capita (current US$)"
      ]
    },
    {
      "cell_type": "markdown",
      "metadata": {
        "id": "bDO0ud81c68S"
      },
      "source": [
        "Consistency can be figured out by finding which region has low standard deviation "
      ]
    },
    {
      "cell_type": "code",
      "metadata": {
        "id": "f2TxbN6hNEOL"
      },
      "source": [
        "df1 = data.groupby(\"Region\")[\"GDP_per_capita_(current_US$)\"].describe().reset_index()"
      ],
      "execution_count": null,
      "outputs": []
    },
    {
      "cell_type": "code",
      "metadata": {
        "id": "f847BSMLT7-i"
      },
      "source": [
        "df2 =df1.sort_values(by=\"std\")\n"
      ],
      "execution_count": null,
      "outputs": []
    },
    {
      "cell_type": "code",
      "metadata": {
        "colab": {
          "base_uri": "https://localhost:8080/",
          "height": 80
        },
        "id": "u5RqzfbQW2qI",
        "outputId": "197c26de-24ae-4246-d294-0c737cd33aa9"
      },
      "source": [
        "df2.head(1)"
      ],
      "execution_count": null,
      "outputs": [
        {
          "output_type": "execute_result",
          "data": {
            "text/html": [
              "<div>\n",
              "<style scoped>\n",
              "    .dataframe tbody tr th:only-of-type {\n",
              "        vertical-align: middle;\n",
              "    }\n",
              "\n",
              "    .dataframe tbody tr th {\n",
              "        vertical-align: top;\n",
              "    }\n",
              "\n",
              "    .dataframe thead th {\n",
              "        text-align: right;\n",
              "    }\n",
              "</style>\n",
              "<table border=\"1\" class=\"dataframe\">\n",
              "  <thead>\n",
              "    <tr style=\"text-align: right;\">\n",
              "      <th></th>\n",
              "      <th>Region</th>\n",
              "      <th>count</th>\n",
              "      <th>mean</th>\n",
              "      <th>std</th>\n",
              "      <th>min</th>\n",
              "      <th>25%</th>\n",
              "      <th>50%</th>\n",
              "      <th>75%</th>\n",
              "      <th>max</th>\n",
              "    </tr>\n",
              "  </thead>\n",
              "  <tbody>\n",
              "    <tr>\n",
              "      <th>19</th>\n",
              "      <td>WesternAfrica</td>\n",
              "      <td>15.0</td>\n",
              "      <td>1013.14</td>\n",
              "      <td>815.095399</td>\n",
              "      <td>359.0</td>\n",
              "      <td>544.7</td>\n",
              "      <td>703.9</td>\n",
              "      <td>1068.05</td>\n",
              "      <td>3080.2</td>\n",
              "    </tr>\n",
              "  </tbody>\n",
              "</table>\n",
              "</div>"
            ],
            "text/plain": [
              "           Region  count     mean         std  ...    25%    50%      75%     max\n",
              "19  WesternAfrica   15.0  1013.14  815.095399  ...  544.7  703.9  1068.05  3080.2\n",
              "\n",
              "[1 rows x 9 columns]"
            ]
          },
          "metadata": {},
          "execution_count": 248
        }
      ]
    },
    {
      "cell_type": "markdown",
      "metadata": {
        "id": "ZbP-YAkwdE8D"
      },
      "source": [
        "We can see Western AFrica is having more consistence wrt to GDP"
      ]
    }
  ]
}