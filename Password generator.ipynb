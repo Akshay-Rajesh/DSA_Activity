{
 "cells": [
  {
   "cell_type": "code",
   "execution_count": 2,
   "id": "6b510083",
   "metadata": {},
   "outputs": [],
   "source": [
    "import random\n",
    "import numpy as np"
   ]
  },
  {
   "cell_type": "code",
   "execution_count": 4,
   "id": "b13bdbd0",
   "metadata": {},
   "outputs": [
    {
     "name": "stdout",
     "output_type": "stream",
     "text": [
      "wasplay18.\n"
     ]
    }
   ],
   "source": [
    "adjectives = [\"of\" , \"is\" , \"was\" ]\n",
    "noun = [\"run\" ,\"play\" ,\"walk\"]\n",
    "number = random.randint(1, 100)\n",
    "punct = [\"!\" ,\".\" ,\"/\"]\n",
    "password = random.choice(adjectives)+random.choice(noun)+str(number)+random.choice(punct)\n",
    "print(password)"
   ]
  },
  {
   "cell_type": "code",
   "execution_count": null,
   "id": "0f3d78b2",
   "metadata": {},
   "outputs": [],
   "source": []
  }
 ],
 "metadata": {
  "kernelspec": {
   "display_name": "Python 3",
   "language": "python",
   "name": "python3"
  },
  "language_info": {
   "codemirror_mode": {
    "name": "ipython",
    "version": 3
   },
   "file_extension": ".py",
   "mimetype": "text/x-python",
   "name": "python",
   "nbconvert_exporter": "python",
   "pygments_lexer": "ipython3",
   "version": "3.8.8"
  }
 },
 "nbformat": 4,
 "nbformat_minor": 5
}
