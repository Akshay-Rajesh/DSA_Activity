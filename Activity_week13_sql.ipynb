{
  "nbformat": 4,
  "nbformat_minor": 0,
  "metadata": {
    "colab": {
      "name": "Activity-week13.sql",
      "provenance": [],
      "authorship_tag": "ABX9TyMCAehNd4K2mLiEs93JRP+P",
      "include_colab_link": true
    },
    "kernelspec": {
      "name": "python3",
      "display_name": "Python 3"
    },
    "language_info": {
      "name": "python"
    }
  },
  "cells": [
    {
      "cell_type": "markdown",
      "metadata": {
        "id": "view-in-github",
        "colab_type": "text"
      },
      "source": [
        "<a href=\"https://colab.research.google.com/github/Akshay-Rajesh/DSA_Activity/blob/main/Activity_week13_sql.ipynb\" target=\"_parent\"><img src=\"https://colab.research.google.com/assets/colab-badge.svg\" alt=\"Open In Colab\"/></a>"
      ]
    },
    {
      "cell_type": "markdown",
      "source": [
        "# Q&A Activity Question Week -13\n",
        "Create a table as given below in MySQL. And write queries for the given\n",
        "statements."
      ],
      "metadata": {
        "id": "kggPln8rSsZx"
      }
    },
    {
      "cell_type": "markdown",
      "source": [
        "1. Write SQL queries to create the above table."
      ],
      "metadata": {
        "id": "PY-t-HEnTAvR"
      }
    },
    {
      "cell_type": "code",
      "execution_count": null,
      "metadata": {
        "id": "inC05dFJSFvF"
      },
      "outputs": [],
      "source": [
        "CREATE TABLE employees (\n",
        "Employee_ID VARCHAR(10) PRIMARY KEY,\n",
        "Name VARCHAR(30) NOT NULL,\n",
        "Gender VARCHAR(30) NOT NULL,\n",
        "Department VARCHAR(30) NOT NULL,\n",
        "Salary INT NOT NULL,\n",
        "DOB DATE NOT NULL,\n",
        "Date_of_joining DATE NOT NULL);\n",
        "INSERT INTO employees VALUES\n",
        "('CPO123','Ann Mery','F','HR',45000,'1989-10-10','2018-01-01'),\n",
        "('CPO087','Felix M','M','Finance',48000,'1981-04-12','2000-12-10'),\n",
        "('CPO197','Merlin','M','CEO',80000,'1990-03-01','2011-05-10'),\n",
        "('CPO213','Philip','M','Retail',47000,'1991-04-01','2012-06-11'),\n",
        "('CPO243','Michael','M','Retail',40000,'1992-12-01','2016-05-30'),\n",
        "('CPO289','Susan','F','Retail',40000,'1991-01-01','2016-04-01'),\n",
        "('CPO298','Abram','M','Relations',30000,'1994-04-17','2016-10-06'),\n",
        "('CPO300','Alia','F','Relations',30000,'1995-10-17','2016-10-18'),\n",
        "('CPO321','Raichal','F','Marketing',34000,'1990-10-09','2016-10-22'),\n",
        "('CPO276','Thomas','M','Marketing',44000,'1983-11-19','2018-10-22')\n",
        ";"
      ]
    },
    {
      "cell_type": "markdown",
      "source": [
        "2. Write SQL queries to select employees from the following\n",
        "-- departments\n",
        "-- a. Marketing\n",
        "-- b. Retail\n",
        "-- c. HR"
      ],
      "metadata": {
        "id": "NktvRJTMTZlZ"
      }
    },
    {
      "cell_type": "code",
      "source": [
        "SELECT * FROM employees WHERE department LIKE '%Marketing%' or department LIKE '%HR%' or department LIKE '%Retail%'  ;"
      ],
      "metadata": {
        "id": "e9bxkFIzThqD"
      },
      "execution_count": null,
      "outputs": []
    },
    {
      "cell_type": "markdown",
      "source": [
        "3. Write SQL queries to create a table only containing female employees"
      ],
      "metadata": {
        "id": "oUgG6sy-TpoH"
      }
    },
    {
      "cell_type": "code",
      "source": [
        "SELECT * FROM employees WHERE gender = 'F';"
      ],
      "metadata": {
        "id": "4y_M7NaiTxAN"
      },
      "execution_count": null,
      "outputs": []
    },
    {
      "cell_type": "markdown",
      "source": [
        "4. Write SQL queries to display the Maximum,Minimum and Average Salary"
      ],
      "metadata": {
        "id": "TLp9wS8mT82w"
      }
    },
    {
      "cell_type": "code",
      "source": [
        "SELECT MAX(SALARY) AS [Max Salary] ,MIN(SALARY) As [Min Salary],AVG(SALARY) As [Average Salary]  FROM employees;"
      ],
      "metadata": {
        "id": "EGwhmdupUC1Q"
      },
      "execution_count": null,
      "outputs": []
    },
    {
      "cell_type": "markdown",
      "source": [
        "5. Write SQL query to display the employee details based on the following conditions.\n",
        "-- a. Male employees having salary greater than 40000\n",
        "-- b. Female employees having salary less than 45000\n",
        "-- c. Employee having salary between 30000 and 60000 and working in Marketing or Retail department."
      ],
      "metadata": {
        "id": "fHCzUuD3UG1X"
      }
    },
    {
      "cell_type": "code",
      "source": [
        "Select * from employeetable where gender =\"M\" and salary > 40000;\n",
        "\n",
        "Select * from employeetable where gender='F' and salary < 45000;\n",
        "\n",
        "\n",
        "SELECT emp_id, emp_name,salary,department\n",
        "FROM employeetable\n",
        "WHERE salary BETWEEN 30000 AND 60000 \n",
        "AND department LIKE '%Marketing%' or department LIKE '%Retail%' ;"
      ],
      "metadata": {
        "id": "IE_-zqTnULjg"
      },
      "execution_count": null,
      "outputs": []
    }
  ]
}